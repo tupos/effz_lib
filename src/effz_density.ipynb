{
 "cells": [
  {
   "cell_type": "code",
   "execution_count": 23,
   "metadata": {},
   "outputs": [],
   "source": [
    "from sympy import *"
   ]
  },
  {
   "cell_type": "code",
   "execution_count": 1,
   "metadata": {},
   "outputs": [],
   "source": [
    "from sympy.core import S, I, pi, oo\n",
    "from sympy.core.symbol import Symbol, symbols\n",
    "from sympy.core.numbers import Integer, Rational\n",
    "from sympy.integrals import integrate\n",
    "from sympy.functions import (exp, sqrt, factorial, hyper, Ynm, cos, sin)\n",
    "from sympy import init_printing"
   ]
  },
  {
   "cell_type": "code",
   "execution_count": 24,
   "metadata": {},
   "outputs": [],
   "source": [
    "init_printing()"
   ]
  },
  {
   "cell_type": "code",
   "execution_count": 25,
   "metadata": {},
   "outputs": [],
   "source": [
    "z, r, q, s = symbols('z r q s', positive = True)\n",
    "theta, phi = symbols('theta phi', real = True)\n",
    "n = symbols('n', integer = True, postive = True)\n",
    "l, m = symbols('l m', integer = True)\n",
    "a_bohr = 0.52917721067"
   ]
  },
  {
   "cell_type": "code",
   "execution_count": 26,
   "metadata": {},
   "outputs": [],
   "source": [
    "def h_l_rnl(z,n,l,r):\n",
    "    z1, r1 = symbols('z1 r1', real = True)\n",
    "    n1, l1 = symbols('n1 l1', integer = True)\n",
    "    x = Integer(2) * z1 * r1 / n1\n",
    "    norm = (\n",
    "            1 / factorial(Integer(2) * l1 + Integer(1))\n",
    "            * (2*z1/n1)**(Rational(3,2))\n",
    "            * sqrt(factorial(n1+l)/factorial(n1-l1-Integer(1))/(Integer(2)*n1))\n",
    "            )\n",
    "    f = norm * x**l1 * exp(-x/2) * hyper((-n1+l1+1,),[2*l1+2],x)\n",
    "    return f.subs([(z1,z),(n1,n),(l1,l),(r1,r)])"
   ]
  },
  {
   "cell_type": "code",
   "execution_count": 27,
   "metadata": {},
   "outputs": [],
   "source": [
    "def rho_h_l_p(z,n,l,m,r,theta,phi):\n",
    "    theta1,phi1 = symbols('theta1 phi1', real = True)\n",
    "    m1 = symbols('m1', integer = True)\n",
    "    res = (\n",
    "        (abs(Ynm(l,m1,theta1,phi1))**2).subs(\n",
    "            [(m1,m),(theta1,theta),(phi1,phi)]).expand(func=True)\n",
    "        * abs(h_l_rnl(z,n,l,r))**2\n",
    "    ) \n",
    "    return res"
   ]
  },
  {
   "cell_type": "code",
   "execution_count": 28,
   "metadata": {},
   "outputs": [],
   "source": [
    "def rho_h_l(z,g,r,theta,phi):\n",
    "    s1 = Integer(0)\n",
    "    for g_i in g:\n",
    "        n=g_i[0]; l=g_i[1]; m=g_i[2]\n",
    "        s1 += rho_h_l_p(z,n,l,m,r,theta,phi)\n",
    "    return s1.simplify()"
   ]
  },
  {
   "cell_type": "code",
   "execution_count": 29,
   "metadata": {},
   "outputs": [],
   "source": [
    "def rho_h_l_fourier(z,g,q):\n",
    "    return integrate(\n",
    "                    r*r * rho_h_l(z,g,r,theta,phi)\n",
    "                    * exp(I*q*r*cos(theta)) * sin(theta),\n",
    "                    (phi,0,2*pi),(theta,0,pi),(r,0,oo)\n",
    "            ).simplify().factor()"
   ]
  },
  {
   "cell_type": "code",
   "execution_count": 30,
   "metadata": {},
   "outputs": [],
   "source": [
    "def asf_h_l(z,g,s):\n",
    "    return rho_h_l_fourier(z,g,q).subs(q,Integer(4)*pi*a_bohr*s)"
   ]
  },
  {
   "cell_type": "code",
   "execution_count": 31,
   "metadata": {},
   "outputs": [],
   "source": [
    "gg=[[1,0,0,1],[1,0,0,-1],[2,0,0,1],[2,0,0,-1],[2,1,-1,1]]"
   ]
  },
  {
   "cell_type": "code",
   "execution_count": 32,
   "metadata": {},
   "outputs": [
    {
     "data": {
      "image/png": "[encoded data removed]",
      "text/latex": [
       "$$2 z^{\\frac{3}{2}} e^{- r z}$$"
      ],
      "text/plain": [
       "   3/2  -r⋅z\n",
       "2⋅z   ⋅ℯ    "
      ]
     },
     "execution_count": 32,
     "metadata": {},
     "output_type": "execute_result"
    }
   ],
   "source": [
    "h_l_rnl(z,1,0,r).simplify()"
   ]
  },
  {
   "cell_type": "code",
   "execution_count": 33,
   "metadata": {},
   "outputs": [
    {
     "data": {
      "image/png": "[encoded data removed]",
      "text/latex": [
       "$$4 z^{3} \\left(\\frac{2 r}{\\left|{n}\\right|} z\\right)^{2 l} \\left(\\frac{l \\left(P_{l}^{\\left(m\\right)}\\left(\\cos{\\left (\\theta \\right )}\\right)\\right)^{2} \\left(l - m\\right)!}{2 \\pi \\left(l + m\\right)!} + \\frac{\\left(P_{l}^{\\left(m\\right)}\\left(\\cos{\\left (\\theta \\right )}\\right)\\right)^{2} \\left(l - m\\right)!}{4 \\pi \\left(l + m\\right)!}\\right) e^{- \\frac{2 r}{n} z} \\left|{\\frac{\\left(\\frac{1}{n}\\right)^{\\frac{3}{2}}}{\\left(2 l + 1\\right)!} \\sqrt{\\frac{\\left(l + n\\right)!}{n \\left(- (l - n + 1)\\right)!}} {{}_{1}F_{1}\\left(\\begin{matrix} l - n + 1 \\\\ 2 l + 2 \\end{matrix}\\middle| {\\frac{2 r}{n} z} \\right)}}\\right|^{2}$$"
      ],
      "text/plain": [
       "                                                                              \n",
       "                                                                              \n",
       "                                                                              \n",
       "            2⋅l ⎛                2                                        2   \n",
       "   3 ⎛2⋅r⋅z⎞    ⎜l⋅assoc_legendre (l, m, cos(θ))⋅(l - m)!   assoc_legendre (l,\n",
       "4⋅z ⋅⎜─────⎟   ⋅⎜──────────────────────────────────────── + ──────────────────\n",
       "     ⎝ │n│ ⎠    ⎝              2⋅π⋅(l + m)!                              4⋅π⋅(\n",
       "\n",
       "                                                                              \n",
       "                               │    ___________________    3/2                \n",
       "                       -2⋅r⋅z  │   ╱      (l + n)!      ⎛1⎞     ┌─  ⎛l - n + 1\n",
       "                    ⎞  ─────── │  ╱  ───────────────── ⋅⎜─⎟   ⋅ ├─  ⎜         \n",
       " m, cos(θ))⋅(l - m)!⎟     n    │╲╱   n⋅(-(l - n + 1))!  ⎝n⎠    1╵ 1 ⎝ 2⋅l + 2 \n",
       "────────────────────⎟⋅ℯ       ⋅│──────────────────────────────────────────────\n",
       "l + m)!             ⎠          │                       (2⋅l + 1)!             \n",
       "\n",
       "          2\n",
       "         │ \n",
       " │ 2⋅r⋅z⎞│ \n",
       " │ ─────⎟│ \n",
       " │   n  ⎠│ \n",
       "─────────│ \n",
       "         │ "
      ]
     },
     "execution_count": 33,
     "metadata": {},
     "output_type": "execute_result"
    }
   ],
   "source": [
    "rho_h_l_p(z,n,l,m,r,theta,phi)"
   ]
  },
  {
   "cell_type": "code",
   "execution_count": 34,
   "metadata": {},
   "outputs": [
    {
     "data": {
      "image/png": "[encoded data removed]",
      "text/latex": [
       "$$\\frac{z^{3}}{64 \\pi} \\left(\\left(r^{2} z^{2} \\sin^{2}{\\left (\\theta \\right )} + 4 \\left(r z - 2\\right)^{2}\\right) e^{r z} + 128\\right) e^{- 2 r z}$$"
      ],
      "text/plain": [
       " 3 ⎛⎛ 2  2    2                 2⎞  r⋅z      ⎞  -2⋅r⋅z\n",
       "z ⋅⎝⎝r ⋅z ⋅sin (θ) + 4⋅(r⋅z - 2) ⎠⋅ℯ    + 128⎠⋅ℯ      \n",
       "──────────────────────────────────────────────────────\n",
       "                         64⋅π                         "
      ]
     },
     "execution_count": 34,
     "metadata": {},
     "output_type": "execute_result"
    }
   ],
   "source": [
    "rho_h_l(z,gg,r,theta,phi)"
   ]
  },
  {
   "cell_type": "code",
   "execution_count": 35,
   "metadata": {},
   "outputs": [
    {
     "data": {
      "image/png": "[encoded data removed]",
      "text/latex": [
       "$$\\frac{z^{4}}{\\left(q^{2} + z^{2}\\right)^{4} \\left(q^{2} + 4 z^{2}\\right)^{2}} \\left(36 q^{8} + 155 q^{6} z^{2} + 219 q^{4} z^{4} + 72 q^{2} z^{6} + 80 z^{8}\\right)$$"
      ],
      "text/plain": [
       " 4 ⎛    8        6  2        4  4       2  6       8⎞\n",
       "z ⋅⎝36⋅q  + 155⋅q ⋅z  + 219⋅q ⋅z  + 72⋅q ⋅z  + 80⋅z ⎠\n",
       "─────────────────────────────────────────────────────\n",
       "                        4            2               \n",
       "               ⎛ 2    2⎞  ⎛ 2      2⎞                \n",
       "               ⎝q  + z ⎠ ⋅⎝q  + 4⋅z ⎠                "
      ]
     },
     "execution_count": 35,
     "metadata": {},
     "output_type": "execute_result"
    }
   ],
   "source": [
    "rho_h_l_fourier(z,gg,q)"
   ]
  },
  {
   "cell_type": "code",
   "execution_count": 36,
   "metadata": {},
   "outputs": [
    {
     "data": {
      "image/png": "[encoded data removed]",
      "text/latex": [
       "$$\\frac{z^{4} \\left(14507.4637327444 \\pi^{8} s^{8} + 13941.14495157 \\pi^{6} s^{6} z^{2} + 4396.31306414236 \\pi^{4} s^{4} z^{4} + 322.592855376939 \\pi^{2} s^{2} z^{6} + 80 z^{8}\\right)}{\\left(4.48045632467971 \\pi^{2} s^{2} + z^{2}\\right)^{4} \\left(4.48045632467971 \\pi^{2} s^{2} + 4 z^{2}\\right)^{2}}$$"
      ],
      "text/plain": [
       " 4 ⎛                  8  8                   6  6  2                     4  4 \n",
       "z ⋅⎝14507.4637327444⋅π ⋅s  + 13941.14495157⋅π ⋅s ⋅z  + 4396.31306414236⋅π ⋅s ⋅\n",
       "──────────────────────────────────────────────────────────────────────────────\n",
       "                                                        4                     \n",
       "                           ⎛                  2  2    2⎞  ⎛                  2\n",
       "                           ⎝4.48045632467971⋅π ⋅s  + z ⎠ ⋅⎝4.48045632467971⋅π \n",
       "\n",
       " 4                     2  2  6       8⎞\n",
       "z  + 322.592855376939⋅π ⋅s ⋅z  + 80⋅z ⎠\n",
       "───────────────────────────────────────\n",
       "           2                           \n",
       "  2      2⎞                            \n",
       "⋅s  + 4⋅z ⎠                            "
      ]
     },
     "execution_count": 36,
     "metadata": {},
     "output_type": "execute_result"
    }
   ],
   "source": [
    "asf_h_l(z,gg,s)"
   ]
  },
  {
   "cell_type": "code",
   "execution_count": 56,
   "metadata": {},
   "outputs": [],
   "source": [
    "rho_h_l_num = lambdify((r,theta,phi), rho_h_l(1,gg,r,theta,phi), \"math\")"
   ]
  },
  {
   "cell_type": "code",
   "execution_count": 60,
   "metadata": {},
   "outputs": [
    {
     "data": {
      "image/png": "[encoded data removed]",
      "text/latex": [
       "$$0.09389639650017721$$"
      ],
      "text/plain": [
       "0.09389639650017721"
      ]
     },
     "execution_count": 60,
     "metadata": {},
     "output_type": "execute_result"
    }
   ],
   "source": [
    "rho_h_l_num(1.,0.5,3.)"
   ]
  },
  {
   "cell_type": "code",
   "execution_count": 61,
   "metadata": {},
   "outputs": [
    {
     "data": {
      "image/png": "[encoded data removed]",
      "text/latex": [
       "$$0.09347584614793443$$"
      ],
      "text/plain": [
       "0.09347584614793443"
      ]
     },
     "execution_count": 61,
     "metadata": {},
     "output_type": "execute_result"
    }
   ],
   "source": [
    "rho_h_l_num(1.,0.,3.)"
   ]
  },
  {
   "cell_type": "code",
   "execution_count": 19,
   "metadata": {},
   "outputs": [],
   "source": [
    "aa = Symbol('aa', real=True)"
   ]
  },
  {
   "cell_type": "code",
   "execution_count": 20,
   "metadata": {},
   "outputs": [
    {
     "data": {
      "text/plain": [
       "sympy.core.symbol.Symbol"
      ]
     },
     "execution_count": 20,
     "metadata": {},
     "output_type": "execute_result"
    }
   ],
   "source": [
    "type(aa)"
   ]
  },
  {
   "cell_type": "code",
   "execution_count": 21,
   "metadata": {},
   "outputs": [
    {
     "data": {
      "text/plain": [
       "{'commutative': True,\n",
       " 'complex': True,\n",
       " 'hermitian': True,\n",
       " 'imaginary': False,\n",
       " 'real': True}"
      ]
     },
     "execution_count": 21,
     "metadata": {},
     "output_type": "execute_result"
    }
   ],
   "source": [
    "aa.assumptions0"
   ]
  },
  {
   "cell_type": "code",
   "execution_count": 37,
   "metadata": {},
   "outputs": [
    {
     "data": {
      "text/plain": [
       "'(1.0L/64.0L)*pow(z, 3)*((pow(r, 2)*pow(z, 2)*pow(sin(theta), 2) + 4*pow(r*z - 2, 2))*exp(r*z) + 128)*exp(-2*r*z)/M_PI'"
      ]
     },
     "execution_count": 37,
     "metadata": {},
     "output_type": "execute_result"
    }
   ],
   "source": [
    "ccode(rho_h_l(z,gg,r,theta,phi))"
   ]
  },
  {
   "cell_type": "code",
   "execution_count": 39,
   "metadata": {},
   "outputs": [
    {
     "name": "stdout",
     "output_type": "stream",
     "text": [
      "\\frac{z^{3}}{64 \\pi} \\left(\\left(r^{2} z^{2} \\sin^{2}{\\left (\\theta \\right )} + 4 \\left(r z - 2\\right)^{2}\\right) e^{r z} + 128\\right) e^{- 2 r z}\n"
     ]
    }
   ],
   "source": [
    "print(latex(rho_h_l(z,gg,r,theta,phi)))"
   ]
  },
  {
   "cell_type": "code",
   "execution_count": null,
   "metadata": {},
   "outputs": [],
   "source": []
  }
 ],
 "metadata": {
  "kernelspec": {
   "display_name": "Python 3",
   "language": "python",
   "name": "python3"
  },
  "language_info": {
   "codemirror_mode": {
    "name": "ipython",
    "version": 3
   },
   "file_extension": ".py",
   "mimetype": "text/x-python",
   "name": "python",
   "nbconvert_exporter": "python",
   "pygments_lexer": "ipython3",
   "version": "3.6.4"
  }
 },
 "nbformat": 4,
 "nbformat_minor": 2
}
